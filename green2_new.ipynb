{
 "cells": [
  {
   "cell_type": "markdown",
   "id": "809807168da71634",
   "metadata": {
    "collapsed": false
   },
   "source": [
    "# Import libraries"
   ]
  },
  {
   "cell_type": "code",
   "execution_count": 31,
   "id": "initial_id",
   "metadata": {
    "ExecuteTime": {
     "end_time": "2025-04-20T15:09:30.952371500Z",
     "start_time": "2025-04-20T15:09:30.740294800Z"
    },
    "collapsed": false
   },
   "outputs": [],
   "source": [
    "import matplotlib.pyplot as plt\n",
    "import seaborn as sns\n",
    "\n",
    "import tensorflow as tf\n",
    "from tensorflow import keras \n",
    "\n",
    "from tensorflow.keras.models import Sequential\n",
    "from tensorflow.keras.layers import Conv2D, MaxPool2D, Flatten, Dense, Dropout, BatchNormalization, GlobalAveragePooling2D\n",
    "from tensorflow.keras.preprocessing.image import ImageDataGenerator\n",
    "from tensorflow.keras.optimizers import Adam\n",
    "from tensorflow.keras.callbacks import EarlyStopping, ReduceLROnPlateau, ModelCheckpoint\n",
    "\n",
    "from sklearn.model_selection import KFold\n",
    "from sklearn.metrics import classification_report,confusion_matrix\n",
    "\n",
    "import cv2\n",
    "import os\n",
    "\n",
    "import numpy as np\n",
    "import pandas as pd"
   ]
  },
  {
   "cell_type": "code",
   "execution_count": 32,
   "id": "17923c5a4ab45cd1",
   "metadata": {
    "ExecuteTime": {
     "end_time": "2025-04-20T15:09:31.099862900Z",
     "start_time": "2025-04-20T15:09:30.763523800Z"
    },
    "collapsed": false
   },
   "outputs": [
    {
     "name": "stdout",
     "output_type": "stream",
     "text": [
      "2.19.0\n"
     ]
    }
   ],
   "source": [
    "print(tf.__version__)"
   ]
  },
  {
   "cell_type": "code",
   "execution_count": 33,
   "id": "b400bd35474f3bef",
   "metadata": {
    "ExecuteTime": {
     "end_time": "2025-04-20T15:09:31.115357300Z",
     "start_time": "2025-04-20T15:09:30.793602900Z"
    },
    "collapsed": false
   },
   "outputs": [
    {
     "name": "stdout",
     "output_type": "stream",
     "text": [
      "data\\yes//2491975_1119775.jpg\n"
     ]
    }
   ],
   "source": [
    "print(\"data\\yes//2491975_1119775.jpg\")"
   ]
  },
  {
   "cell_type": "markdown",
   "id": "aec1ca0cdc8c1db",
   "metadata": {
    "collapsed": false
   },
   "source": [
    "# Train-Test Split\n",
    "80% - 20%\n",
    "\n",
    "momentan insgesamt je 300 Bilder --> dh. 240 für Training, 60 Testing"
   ]
  },
  {
   "cell_type": "markdown",
   "id": "4d6339ec864b5eac",
   "metadata": {
    "collapsed": false
   },
   "source": [
    "# Loading data"
   ]
  },
  {
   "cell_type": "code",
   "execution_count": 34,
   "id": "c9a7de67eca2821e",
   "metadata": {
    "ExecuteTime": {
     "end_time": "2025-04-20T15:09:31.116381700Z",
     "start_time": "2025-04-20T15:09:30.822648700Z"
    },
    "collapsed": false
   },
   "outputs": [],
   "source": [
    "labels = ['no', 'yes'] # yes: green electro parking spot\n",
    "# 'no' = 0, 'yes' = 1\n",
    "img_size = 224  # Zielgrösse Bilder           \n",
    "\n",
    "def get_data(data_dir):\n",
    "    X = []  # Bilddaten\n",
    "    y = []  # zugehörigen Labels 0 oder 1 \n",
    "\n",
    "    for label in labels:\n",
    "        path = os.path.join(data_dir, label)\n",
    "        class_num = labels.index(label)\n",
    "\n",
    "        for img in os.listdir(path):\n",
    "            try:\n",
    "                img_arr = cv2.imread(os.path.join(path, img))[..., ::-1]    # Bild einlesen, in RGB umwandeln \n",
    "                resized_arr = cv2.resize(img_arr, (img_size, img_size)) # Bild auf einheitliche Grösse skalieren\n",
    "                X.append(resized_arr)\n",
    "                y.append(class_num)\n",
    "            except Exception as e:\n",
    "                print(f\"Fehler bei {img}: {e}\")\n",
    "\n",
    "    return np.array(X), np.array(y)"
   ]
  },
  {
   "cell_type": "code",
   "execution_count": 35,
   "id": "63a0342ff8100491",
   "metadata": {
    "ExecuteTime": {
     "end_time": "2025-04-20T15:09:32.695418700Z",
     "start_time": "2025-04-20T15:09:30.850730500Z"
    },
    "collapsed": false
   },
   "outputs": [
    {
     "name": "stdout",
     "output_type": "stream",
     "text": [
      "Gesamtdaten: (600, 224, 224, 3) (600,)\n"
     ]
    }
   ],
   "source": [
    "# alle Daten laden \n",
    "x_data, y_data = get_data('data')   # X=Bild, y=Label, 0 für no, 1 für yes\n",
    "print(\"Gesamtdaten:\", x_data.shape, y_data.shape)"
   ]
  },
  {
   "cell_type": "markdown",
   "id": "ea17ab8b5f48a067",
   "metadata": {
    "collapsed": false
   },
   "source": [
    "# Data Preprocessing, Data Augmentation and Visualization "
   ]
  },
  {
   "cell_type": "code",
   "execution_count": 36,
   "id": "1c977aeb",
   "metadata": {},
   "outputs": [],
   "source": [
    "# Bilder drehen und spiegel aus 1 Orginalbild -> 12 Testbilder \n",
    "def rotate_and_flip_images(x, y):\n",
    "    x_aug, y_aug = [], []\n",
    "    for img, label in zip(x, y):\n",
    "        for k in range(4):  # 0°, 90°, 180°, 270°\n",
    "            rotated = np.rot90(img, k=k)\n",
    "            x_aug.append(rotated); y_aug.append(label)\n",
    "            x_aug.append(np.fliplr(rotated)); y_aug.append(label)  # Horizontal Flip\n",
    "            #x_aug.append(np.flipud(rotated)); y_aug.append(label)  # Vertical Flip\n",
    "    return np.array(x_aug), np.array(y_aug)"
   ]
  },
  {
   "cell_type": "markdown",
   "id": "759f1c61",
   "metadata": {},
   "source": [
    "# Define the Model"
   ]
  },
  {
   "cell_type": "code",
   "execution_count": 37,
   "id": "ffffc9b0",
   "metadata": {},
   "outputs": [],
   "source": [
    "def create_model():\n",
    "    model = Sequential()\n",
    "\n",
    "    # 1. Convolutional Layer\n",
    "    model.add(Conv2D(32, (3, 3), padding=\"same\", activation=\"relu\", input_shape=(224, 224, 3)))\n",
    "    model.add(BatchNormalization())  # Normalize after convolution\n",
    "    model.add(MaxPool2D())\n",
    "\n",
    "    # 2. Convolutional Layer\n",
    "    model.add(Conv2D(64, (3, 3), padding=\"same\", activation=\"relu\"))\n",
    "    model.add(BatchNormalization())  # Normalize after convolution\n",
    "    model.add(MaxPool2D())\n",
    "\n",
    "    # 3. Convolutional Layer + Dropout to prevent overfitting\n",
    "    model.add(Conv2D(128, (3, 3), padding=\"same\", activation=\"relu\"))\n",
    "    model.add(BatchNormalization())  # Normalize after convolution\n",
    "    model.add(MaxPool2D())\n",
    "    model.add(Dropout(0.4))\n",
    "\n",
    "    # Global Average Pooling instead of Flatten\n",
    "    model.add(GlobalAveragePooling2D())  # Reduces the size of the output (fewer parameters)\n",
    "\n",
    "    # Dense Layer\n",
    "    model.add(Dense(128, activation=\"relu\"))\n",
    "    model.add(Dropout(0.3))  # Dropout to prevent overfitting\n",
    "\n",
    "    # Output Layer (Sigmoid for binary classification)\n",
    "    model.add(Dense(1, activation=\"sigmoid\"))\n",
    "\n",
    "    # Model Summary\n",
    "    model.summary()\n",
    "\n",
    "    # Optimizer and Callbacks\n",
    "    optimizer = Adam(learning_rate=0.0001)  # Adjust learning rate for better convergence\n",
    "\n",
    "    # Compile the Model\n",
    "    model.compile(optimizer=optimizer, loss='binary_crossentropy', metrics=['accuracy'])\n",
    "\n",
    "    return model"
   ]
  },
  {
   "cell_type": "code",
   "execution_count": 38,
   "id": "6a198e5f",
   "metadata": {},
   "outputs": [],
   "source": [
    "\n",
    "def train_model(model, x_train, y_train, x_val, y_val, batch_size=16, epochs=10):\n",
    "    \n",
    "    # Callbacks\n",
    "    early_stop = EarlyStopping(monitor='val_loss', patience=5, restore_best_weights=True)\n",
    "    lr_scheduler = ReduceLROnPlateau(monitor='val_loss', factor=0.5, patience=3, min_lr=1e-5)\n",
    "\n",
    "    # Train Model\n",
    "    history = model.fit(\n",
    "        x_train, y_train,\n",
    "        batch_size=batch_size,\n",
    "        epochs=epochs,\n",
    "        validation_data=(x_val, y_val),\n",
    "        callbacks=[early_stop, lr_scheduler],\n",
    "        verbose=1\n",
    "    )\n",
    "    \n",
    "    return history"
   ]
  },
  {
   "cell_type": "markdown",
   "id": "18329248",
   "metadata": {},
   "source": [
    "# K-folds Schleife"
   ]
  },
  {
   "cell_type": "code",
   "execution_count": null,
   "id": "ee3b17abcf77134c",
   "metadata": {
    "ExecuteTime": {
     "end_time": "2025-04-20T15:09:33.898061700Z",
     "start_time": "2025-04-20T15:09:33.668613900Z"
    },
    "collapsed": false
   },
   "outputs": [
    {
     "name": "stdout",
     "output_type": "stream",
     "text": [
      "\n",
      "====================\n",
      "Fold 1 Datenübersicht:\n"
     ]
    },
    {
     "data": {
      "image/png": "[encoded data removed]",
      "text/plain": [
       "<Figure size 640x480 with 1 Axes>"
      ]
     },
     "metadata": {},
     "output_type": "display_data"
    },
    {
     "data": {
      "image/png": "[encoded data removed]",
      "text/plain": [
       "<Figure size 1200x200 with 1 Axes>"
      ]
     },
     "metadata": {},
     "output_type": "display_data"
    },
    {
     "name": "stdout",
     "output_type": "stream",
     "text": [
      "Train shape: (480, 224, 224, 3) (480,)\n",
      "Val shape: (120, 224, 224, 3) (120,)\n",
      "\n",
      "Label-Beispiel1: 0 → no\n",
      "Label-Beispiel2: 1 → yes\n",
      "\n",
      "Länge Trainingsdaten: 480\n",
      "Länge Labels: 480\n",
      "Nach Augmentation: (3840, 224, 224, 3) (3840,)\n"
     ]
    },
    {
     "name": "stderr",
     "output_type": "stream",
     "text": [
      "/home/nachbaisabel@edu.local/miniconda3/envs/green_env/lib/python3.10/site-packages/keras/src/layers/convolutional/base_conv.py:107: UserWarning: Do not pass an `input_shape`/`input_dim` argument to a layer. When using Sequential models, prefer using an `Input(shape)` object as the first layer in the model instead.\n",
      "  super().__init__(activity_regularizer=activity_regularizer, **kwargs)\n"
     ]
    },
    {
     "data": {
      "text/html": [
       "<pre style=\"white-space:pre;overflow-x:auto;line-height:normal;font-family:Menlo,'DejaVu Sans Mono',consolas,'Courier New',monospace\"><span style=\"font-weight: bold\">Model: \"sequential_7\"</span>\n",
       "</pre>\n"
      ],
      "text/plain": [
       "\u001b[1mModel: \"sequential_7\"\u001b[0m\n"
      ]
     },
     "metadata": {},
     "output_type": "display_data"
    },
    {
     "data": {
      "text/html": [
       "<pre style=\"white-space:pre;overflow-x:auto;line-height:normal;font-family:Menlo,'DejaVu Sans Mono',consolas,'Courier New',monospace\">┏━━━━━━━━━━━━━━━━━━━━━━━━━━━━━━━━━┳━━━━━━━━━━━━━━━━━━━━━━━━┳━━━━━━━━━━━━━━━┓\n",
       "┃<span style=\"font-weight: bold\"> Layer (type)                    </span>┃<span style=\"font-weight: bold\"> Output Shape           </span>┃<span style=\"font-weight: bold\">       Param # </span>┃\n",
       "┡━━━━━━━━━━━━━━━━━━━━━━━━━━━━━━━━━╇━━━━━━━━━━━━━━━━━━━━━━━━╇━━━━━━━━━━━━━━━┩\n",
       "│ conv2d_21 (<span style=\"color: #0087ff; text-decoration-color: #0087ff\">Conv2D</span>)              │ (<span style=\"color: #00d7ff; text-decoration-color: #00d7ff\">None</span>, <span style=\"color: #00af00; text-decoration-color: #00af00\">224</span>, <span style=\"color: #00af00; text-decoration-color: #00af00\">224</span>, <span style=\"color: #00af00; text-decoration-color: #00af00\">32</span>)   │           <span style=\"color: #00af00; text-decoration-color: #00af00\">896</span> │\n",
       "├─────────────────────────────────┼────────────────────────┼───────────────┤\n",
       "│ batch_normalization_21          │ (<span style=\"color: #00d7ff; text-decoration-color: #00d7ff\">None</span>, <span style=\"color: #00af00; text-decoration-color: #00af00\">224</span>, <span style=\"color: #00af00; text-decoration-color: #00af00\">224</span>, <span style=\"color: #00af00; text-decoration-color: #00af00\">32</span>)   │           <span style=\"color: #00af00; text-decoration-color: #00af00\">128</span> │\n",
       "│ (<span style=\"color: #0087ff; text-decoration-color: #0087ff\">BatchNormalization</span>)            │                        │               │\n",
       "├─────────────────────────────────┼────────────────────────┼───────────────┤\n",
       "│ max_pooling2d_21 (<span style=\"color: #0087ff; text-decoration-color: #0087ff\">MaxPooling2D</span>) │ (<span style=\"color: #00d7ff; text-decoration-color: #00d7ff\">None</span>, <span style=\"color: #00af00; text-decoration-color: #00af00\">112</span>, <span style=\"color: #00af00; text-decoration-color: #00af00\">112</span>, <span style=\"color: #00af00; text-decoration-color: #00af00\">32</span>)   │             <span style=\"color: #00af00; text-decoration-color: #00af00\">0</span> │\n",
       "├─────────────────────────────────┼────────────────────────┼───────────────┤\n",
       "│ conv2d_22 (<span style=\"color: #0087ff; text-decoration-color: #0087ff\">Conv2D</span>)              │ (<span style=\"color: #00d7ff; text-decoration-color: #00d7ff\">None</span>, <span style=\"color: #00af00; text-decoration-color: #00af00\">112</span>, <span style=\"color: #00af00; text-decoration-color: #00af00\">112</span>, <span style=\"color: #00af00; text-decoration-color: #00af00\">64</span>)   │        <span style=\"color: #00af00; text-decoration-color: #00af00\">18,496</span> │\n",
       "├─────────────────────────────────┼────────────────────────┼───────────────┤\n",
       "│ batch_normalization_22          │ (<span style=\"color: #00d7ff; text-decoration-color: #00d7ff\">None</span>, <span style=\"color: #00af00; text-decoration-color: #00af00\">112</span>, <span style=\"color: #00af00; text-decoration-color: #00af00\">112</span>, <span style=\"color: #00af00; text-decoration-color: #00af00\">64</span>)   │           <span style=\"color: #00af00; text-decoration-color: #00af00\">256</span> │\n",
       "│ (<span style=\"color: #0087ff; text-decoration-color: #0087ff\">BatchNormalization</span>)            │                        │               │\n",
       "├─────────────────────────────────┼────────────────────────┼───────────────┤\n",
       "│ max_pooling2d_22 (<span style=\"color: #0087ff; text-decoration-color: #0087ff\">MaxPooling2D</span>) │ (<span style=\"color: #00d7ff; text-decoration-color: #00d7ff\">None</span>, <span style=\"color: #00af00; text-decoration-color: #00af00\">56</span>, <span style=\"color: #00af00; text-decoration-color: #00af00\">56</span>, <span style=\"color: #00af00; text-decoration-color: #00af00\">64</span>)     │             <span style=\"color: #00af00; text-decoration-color: #00af00\">0</span> │\n",
       "├─────────────────────────────────┼────────────────────────┼───────────────┤\n",
       "│ conv2d_23 (<span style=\"color: #0087ff; text-decoration-color: #0087ff\">Conv2D</span>)              │ (<span style=\"color: #00d7ff; text-decoration-color: #00d7ff\">None</span>, <span style=\"color: #00af00; text-decoration-color: #00af00\">56</span>, <span style=\"color: #00af00; text-decoration-color: #00af00\">56</span>, <span style=\"color: #00af00; text-decoration-color: #00af00\">128</span>)    │        <span style=\"color: #00af00; text-decoration-color: #00af00\">73,856</span> │\n",
       "├─────────────────────────────────┼────────────────────────┼───────────────┤\n",
       "│ batch_normalization_23          │ (<span style=\"color: #00d7ff; text-decoration-color: #00d7ff\">None</span>, <span style=\"color: #00af00; text-decoration-color: #00af00\">56</span>, <span style=\"color: #00af00; text-decoration-color: #00af00\">56</span>, <span style=\"color: #00af00; text-decoration-color: #00af00\">128</span>)    │           <span style=\"color: #00af00; text-decoration-color: #00af00\">512</span> │\n",
       "│ (<span style=\"color: #0087ff; text-decoration-color: #0087ff\">BatchNormalization</span>)            │                        │               │\n",
       "├─────────────────────────────────┼────────────────────────┼───────────────┤\n",
       "│ max_pooling2d_23 (<span style=\"color: #0087ff; text-decoration-color: #0087ff\">MaxPooling2D</span>) │ (<span style=\"color: #00d7ff; text-decoration-color: #00d7ff\">None</span>, <span style=\"color: #00af00; text-decoration-color: #00af00\">28</span>, <span style=\"color: #00af00; text-decoration-color: #00af00\">28</span>, <span style=\"color: #00af00; text-decoration-color: #00af00\">128</span>)    │             <span style=\"color: #00af00; text-decoration-color: #00af00\">0</span> │\n",
       "├─────────────────────────────────┼────────────────────────┼───────────────┤\n",
       "│ dropout_14 (<span style=\"color: #0087ff; text-decoration-color: #0087ff\">Dropout</span>)            │ (<span style=\"color: #00d7ff; text-decoration-color: #00d7ff\">None</span>, <span style=\"color: #00af00; text-decoration-color: #00af00\">28</span>, <span style=\"color: #00af00; text-decoration-color: #00af00\">28</span>, <span style=\"color: #00af00; text-decoration-color: #00af00\">128</span>)    │             <span style=\"color: #00af00; text-decoration-color: #00af00\">0</span> │\n",
       "├─────────────────────────────────┼────────────────────────┼───────────────┤\n",
       "│ global_average_pooling2d_7      │ (<span style=\"color: #00d7ff; text-decoration-color: #00d7ff\">None</span>, <span style=\"color: #00af00; text-decoration-color: #00af00\">128</span>)            │             <span style=\"color: #00af00; text-decoration-color: #00af00\">0</span> │\n",
       "│ (<span style=\"color: #0087ff; text-decoration-color: #0087ff\">GlobalAveragePooling2D</span>)        │                        │               │\n",
       "├─────────────────────────────────┼────────────────────────┼───────────────┤\n",
       "│ dense_14 (<span style=\"color: #0087ff; text-decoration-color: #0087ff\">Dense</span>)                │ (<span style=\"color: #00d7ff; text-decoration-color: #00d7ff\">None</span>, <span style=\"color: #00af00; text-decoration-color: #00af00\">128</span>)            │        <span style=\"color: #00af00; text-decoration-color: #00af00\">16,512</span> │\n",
       "├─────────────────────────────────┼────────────────────────┼───────────────┤\n",
       "│ dropout_15 (<span style=\"color: #0087ff; text-decoration-color: #0087ff\">Dropout</span>)            │ (<span style=\"color: #00d7ff; text-decoration-color: #00d7ff\">None</span>, <span style=\"color: #00af00; text-decoration-color: #00af00\">128</span>)            │             <span style=\"color: #00af00; text-decoration-color: #00af00\">0</span> │\n",
       "├─────────────────────────────────┼────────────────────────┼───────────────┤\n",
       "│ dense_15 (<span style=\"color: #0087ff; text-decoration-color: #0087ff\">Dense</span>)                │ (<span style=\"color: #00d7ff; text-decoration-color: #00d7ff\">None</span>, <span style=\"color: #00af00; text-decoration-color: #00af00\">1</span>)              │           <span style=\"color: #00af00; text-decoration-color: #00af00\">129</span> │\n",
       "└─────────────────────────────────┴────────────────────────┴───────────────┘\n",
       "</pre>\n"
      ],
      "text/plain": [
       "┏━━━━━━━━━━━━━━━━━━━━━━━━━━━━━━━━━┳━━━━━━━━━━━━━━━━━━━━━━━━┳━━━━━━━━━━━━━━━┓\n",
       "┃\u001b[1m \u001b[0m\u001b[1mLayer (type)                   \u001b[0m\u001b[1m \u001b[0m┃\u001b[1m \u001b[0m\u001b[1mOutput Shape          \u001b[0m\u001b[1m \u001b[0m┃\u001b[1m \u001b[0m\u001b[1m      Param #\u001b[0m\u001b[1m \u001b[0m┃\n",
       "┡━━━━━━━━━━━━━━━━━━━━━━━━━━━━━━━━━╇━━━━━━━━━━━━━━━━━━━━━━━━╇━━━━━━━━━━━━━━━┩\n",
       "│ conv2d_21 (\u001b[38;5;33mConv2D\u001b[0m)              │ (\u001b[38;5;45mNone\u001b[0m, \u001b[38;5;34m224\u001b[0m, \u001b[38;5;34m224\u001b[0m, \u001b[38;5;34m32\u001b[0m)   │           \u001b[38;5;34m896\u001b[0m │\n",
       "├─────────────────────────────────┼────────────────────────┼───────────────┤\n",
       "│ batch_normalization_21          │ (\u001b[38;5;45mNone\u001b[0m, \u001b[38;5;34m224\u001b[0m, \u001b[38;5;34m224\u001b[0m, \u001b[38;5;34m32\u001b[0m)   │           \u001b[38;5;34m128\u001b[0m │\n",
       "│ (\u001b[38;5;33mBatchNormalization\u001b[0m)            │                        │               │\n",
       "├─────────────────────────────────┼────────────────────────┼───────────────┤\n",
       "│ max_pooling2d_21 (\u001b[38;5;33mMaxPooling2D\u001b[0m) │ (\u001b[38;5;45mNone\u001b[0m, \u001b[38;5;34m112\u001b[0m, \u001b[38;5;34m112\u001b[0m, \u001b[38;5;34m32\u001b[0m)   │             \u001b[38;5;34m0\u001b[0m │\n",
       "├─────────────────────────────────┼────────────────────────┼───────────────┤\n",
       "│ conv2d_22 (\u001b[38;5;33mConv2D\u001b[0m)              │ (\u001b[38;5;45mNone\u001b[0m, \u001b[38;5;34m112\u001b[0m, \u001b[38;5;34m112\u001b[0m, \u001b[38;5;34m64\u001b[0m)   │        \u001b[38;5;34m18,496\u001b[0m │\n",
       "├─────────────────────────────────┼────────────────────────┼───────────────┤\n",
       "│ batch_normalization_22          │ (\u001b[38;5;45mNone\u001b[0m, \u001b[38;5;34m112\u001b[0m, \u001b[38;5;34m112\u001b[0m, \u001b[38;5;34m64\u001b[0m)   │           \u001b[38;5;34m256\u001b[0m │\n",
       "│ (\u001b[38;5;33mBatchNormalization\u001b[0m)            │                        │               │\n",
       "├─────────────────────────────────┼────────────────────────┼───────────────┤\n",
       "│ max_pooling2d_22 (\u001b[38;5;33mMaxPooling2D\u001b[0m) │ (\u001b[38;5;45mNone\u001b[0m, \u001b[38;5;34m56\u001b[0m, \u001b[38;5;34m56\u001b[0m, \u001b[38;5;34m64\u001b[0m)     │             \u001b[38;5;34m0\u001b[0m │\n",
       "├─────────────────────────────────┼────────────────────────┼───────────────┤\n",
       "│ conv2d_23 (\u001b[38;5;33mConv2D\u001b[0m)              │ (\u001b[38;5;45mNone\u001b[0m, \u001b[38;5;34m56\u001b[0m, \u001b[38;5;34m56\u001b[0m, \u001b[38;5;34m128\u001b[0m)    │        \u001b[38;5;34m73,856\u001b[0m │\n",
       "├─────────────────────────────────┼────────────────────────┼───────────────┤\n",
       "│ batch_normalization_23          │ (\u001b[38;5;45mNone\u001b[0m, \u001b[38;5;34m56\u001b[0m, \u001b[38;5;34m56\u001b[0m, \u001b[38;5;34m128\u001b[0m)    │           \u001b[38;5;34m512\u001b[0m │\n",
       "│ (\u001b[38;5;33mBatchNormalization\u001b[0m)            │                        │               │\n",
       "├─────────────────────────────────┼────────────────────────┼───────────────┤\n",
       "│ max_pooling2d_23 (\u001b[38;5;33mMaxPooling2D\u001b[0m) │ (\u001b[38;5;45mNone\u001b[0m, \u001b[38;5;34m28\u001b[0m, \u001b[38;5;34m28\u001b[0m, \u001b[38;5;34m128\u001b[0m)    │             \u001b[38;5;34m0\u001b[0m │\n",
       "├─────────────────────────────────┼────────────────────────┼───────────────┤\n",
       "│ dropout_14 (\u001b[38;5;33mDropout\u001b[0m)            │ (\u001b[38;5;45mNone\u001b[0m, \u001b[38;5;34m28\u001b[0m, \u001b[38;5;34m28\u001b[0m, \u001b[38;5;34m128\u001b[0m)    │             \u001b[38;5;34m0\u001b[0m │\n",
       "├─────────────────────────────────┼────────────────────────┼───────────────┤\n",
       "│ global_average_pooling2d_7      │ (\u001b[38;5;45mNone\u001b[0m, \u001b[38;5;34m128\u001b[0m)            │             \u001b[38;5;34m0\u001b[0m │\n",
       "│ (\u001b[38;5;33mGlobalAveragePooling2D\u001b[0m)        │                        │               │\n",
       "├─────────────────────────────────┼────────────────────────┼───────────────┤\n",
       "│ dense_14 (\u001b[38;5;33mDense\u001b[0m)                │ (\u001b[38;5;45mNone\u001b[0m, \u001b[38;5;34m128\u001b[0m)            │        \u001b[38;5;34m16,512\u001b[0m │\n",
       "├─────────────────────────────────┼────────────────────────┼───────────────┤\n",
       "│ dropout_15 (\u001b[38;5;33mDropout\u001b[0m)            │ (\u001b[38;5;45mNone\u001b[0m, \u001b[38;5;34m128\u001b[0m)            │             \u001b[38;5;34m0\u001b[0m │\n",
       "├─────────────────────────────────┼────────────────────────┼───────────────┤\n",
       "│ dense_15 (\u001b[38;5;33mDense\u001b[0m)                │ (\u001b[38;5;45mNone\u001b[0m, \u001b[38;5;34m1\u001b[0m)              │           \u001b[38;5;34m129\u001b[0m │\n",
       "└─────────────────────────────────┴────────────────────────┴───────────────┘\n"
      ]
     },
     "metadata": {},
     "output_type": "display_data"
    },
    {
     "data": {
      "text/html": [
       "<pre style=\"white-space:pre;overflow-x:auto;line-height:normal;font-family:Menlo,'DejaVu Sans Mono',consolas,'Courier New',monospace\"><span style=\"font-weight: bold\"> Total params: </span><span style=\"color: #00af00; text-decoration-color: #00af00\">110,785</span> (432.75 KB)\n",
       "</pre>\n"
      ],
      "text/plain": [
       "\u001b[1m Total params: \u001b[0m\u001b[38;5;34m110,785\u001b[0m (432.75 KB)\n"
      ]
     },
     "metadata": {},
     "output_type": "display_data"
    },
    {
     "data": {
      "text/html": [
       "<pre style=\"white-space:pre;overflow-x:auto;line-height:normal;font-family:Menlo,'DejaVu Sans Mono',consolas,'Courier New',monospace\"><span style=\"font-weight: bold\"> Trainable params: </span><span style=\"color: #00af00; text-decoration-color: #00af00\">110,337</span> (431.00 KB)\n",
       "</pre>\n"
      ],
      "text/plain": [
       "\u001b[1m Trainable params: \u001b[0m\u001b[38;5;34m110,337\u001b[0m (431.00 KB)\n"
      ]
     },
     "metadata": {},
     "output_type": "display_data"
    },
    {
     "data": {
      "text/html": [
       "<pre style=\"white-space:pre;overflow-x:auto;line-height:normal;font-family:Menlo,'DejaVu Sans Mono',consolas,'Courier New',monospace\"><span style=\"font-weight: bold\"> Non-trainable params: </span><span style=\"color: #00af00; text-decoration-color: #00af00\">448</span> (1.75 KB)\n",
       "</pre>\n"
      ],
      "text/plain": [
       "\u001b[1m Non-trainable params: \u001b[0m\u001b[38;5;34m448\u001b[0m (1.75 KB)\n"
      ]
     },
     "metadata": {},
     "output_type": "display_data"
    },
    {
     "name": "stdout",
     "output_type": "stream",
     "text": [
      "Epoch 1/30\n",
      "\u001b[1m240/240\u001b[0m \u001b[32m━━━━━━━━━━━━━━━━━━━━\u001b[0m\u001b[37m\u001b[0m \u001b[1m161s\u001b[0m 664ms/step - accuracy: 0.6288 - loss: 0.6309 - val_accuracy: 0.5333 - val_loss: 0.6742 - learning_rate: 1.0000e-04\n",
      "Epoch 2/30\n",
      "\u001b[1m240/240\u001b[0m \u001b[32m━━━━━━━━━━━━━━━━━━━━\u001b[0m\u001b[37m\u001b[0m \u001b[1m159s\u001b[0m 664ms/step - accuracy: 0.7302 - loss: 0.5287 - val_accuracy: 0.5333 - val_loss: 0.7064 - learning_rate: 1.0000e-04\n",
      "Epoch 3/30\n",
      "\u001b[1m240/240\u001b[0m \u001b[32m━━━━━━━━━━━━━━━━━━━━\u001b[0m\u001b[37m\u001b[0m \u001b[1m159s\u001b[0m 661ms/step - accuracy: 0.7730 - loss: 0.4761 - val_accuracy: 0.6250 - val_loss: 0.5723 - learning_rate: 1.0000e-04\n",
      "Epoch 4/30\n",
      "\u001b[1m240/240\u001b[0m \u001b[32m━━━━━━━━━━━━━━━━━━━━\u001b[0m\u001b[37m\u001b[0m \u001b[1m159s\u001b[0m 661ms/step - accuracy: 0.8252 - loss: 0.4060 - val_accuracy: 0.8833 - val_loss: 0.3323 - learning_rate: 1.0000e-04\n",
      "Epoch 5/30\n",
      "\u001b[1m240/240\u001b[0m \u001b[32m━━━━━━━━━━━━━━━━━━━━\u001b[0m\u001b[37m\u001b[0m \u001b[1m158s\u001b[0m 660ms/step - accuracy: 0.8346 - loss: 0.3806 - val_accuracy: 0.8500 - val_loss: 0.3314 - learning_rate: 1.0000e-04\n",
      "Epoch 6/30\n",
      "\u001b[1m240/240\u001b[0m \u001b[32m━━━━━━━━━━━━━━━━━━━━\u001b[0m\u001b[37m\u001b[0m \u001b[1m158s\u001b[0m 657ms/step - accuracy: 0.8651 - loss: 0.3266 - val_accuracy: 0.7917 - val_loss: 0.4032 - learning_rate: 1.0000e-04\n",
      "Epoch 7/30\n",
      "\u001b[1m240/240\u001b[0m \u001b[32m━━━━━━━━━━━━━━━━━━━━\u001b[0m\u001b[37m\u001b[0m \u001b[1m159s\u001b[0m 662ms/step - accuracy: 0.8766 - loss: 0.3086 - val_accuracy: 0.9083 - val_loss: 0.2851 - learning_rate: 1.0000e-04\n",
      "Epoch 8/30\n",
      "\u001b[1m240/240\u001b[0m \u001b[32m━━━━━━━━━━━━━━━━━━━━\u001b[0m\u001b[37m\u001b[0m \u001b[1m163s\u001b[0m 680ms/step - accuracy: 0.9046 - loss: 0.2699 - val_accuracy: 0.8333 - val_loss: 0.3514 - learning_rate: 1.0000e-04\n",
      "Epoch 9/30\n",
      "\u001b[1m240/240\u001b[0m \u001b[32m━━━━━━━━━━━━━━━━━━━━\u001b[0m\u001b[37m\u001b[0m \u001b[1m167s\u001b[0m 697ms/step - accuracy: 0.9130 - loss: 0.2427 - val_accuracy: 0.8250 - val_loss: 0.3357 - learning_rate: 1.0000e-04\n",
      "Epoch 10/30\n",
      "\u001b[1m240/240\u001b[0m \u001b[32m━━━━━━━━━━━━━━━━━━━━\u001b[0m\u001b[37m\u001b[0m \u001b[1m173s\u001b[0m 721ms/step - accuracy: 0.9127 - loss: 0.2389 - val_accuracy: 0.8833 - val_loss: 0.2626 - learning_rate: 1.0000e-04\n",
      "Epoch 11/30\n",
      "\u001b[1m205/240\u001b[0m \u001b[32m━━━━━━━━━━━━━━━━━\u001b[0m\u001b[37m━━━\u001b[0m \u001b[1m24s\u001b[0m 706ms/step - accuracy: 0.9294 - loss: 0.2186"
     ]
    }
   ],
   "source": [
    "# Normalisieren --> Pixelwerte von 0-255 enspricht 0-1\n",
    "x_data = x_data / 255.0\n",
    "\n",
    "# Labels als float32 für binary_crossentropy\n",
    "y_data = y_data.astype('float32')\n",
    "\n",
    "# K-Fold vorbereiten - Cross Validation \n",
    "kf = KFold(n_splits=5, shuffle=True, random_state=42)\n",
    "\n",
    "fold_no = 1\n",
    "acc_per_fold = []\n",
    "loss_per_fold = []\n",
    "\n",
    "for train_index, val_index in kf.split(x_data):\n",
    "    print(f'\\n====================')\n",
    "    print(f'Fold {fold_no} Datenübersicht:')\n",
    "\n",
    "    # Aufteilen in Training / Validation\n",
    "    x_train, x_val = x_data[train_index], x_data[val_index]\n",
    "    y_train, y_val = y_data[train_index], y_data[val_index]\n",
    "\n",
    "    # Ursprüngliche Labels (ohne Augmentation!) → Verteilung im Original-Split\n",
    "    train_labels = y_data[train_index].astype(int)\n",
    "    val_labels = y_data[val_index].astype(int)\n",
    "\n",
    "    # Anzahl pro Klasse\n",
    "    train_no = np.sum(train_labels == 0)\n",
    "    train_yes = np.sum(train_labels == 1)\n",
    "    val_no = np.sum(val_labels == 0)\n",
    "    val_yes = np.sum(val_labels == 1)\n",
    "\n",
    "    labels_classes = ['no', 'yes']\n",
    "    train_counts = [train_no, train_yes]\n",
    "    val_counts = [val_no, val_yes]\n",
    "\n",
    "    x = np.arange(len(labels_classes))\n",
    "\n",
    "    fig, ax = plt.subplots()\n",
    "    ax.bar(x, train_counts, label='Train', color='skyblue')\n",
    "    ax.bar(x, val_counts, bottom=train_counts, label='Val', color='salmon')\n",
    "\n",
    "    ax.set_ylabel('Anzahl Bilder')\n",
    "    ax.set_title(f'Klassensplit (Fold {fold_no})')\n",
    "    ax.set_xticks(x)\n",
    "    ax.set_xticklabels(labels_classes)\n",
    "    ax.legend()\n",
    "\n",
    "    plt.show()\n",
    "   \n",
    "    \n",
    "    # Visualisieren, welche Bilder train / val sind\n",
    "    split_labels = []\n",
    "    for idx in range(len(x_data)):\n",
    "        if idx in train_index:\n",
    "            split_labels.append('Train')\n",
    "        elif idx in val_index:\n",
    "            split_labels.append('Val')\n",
    "        else:\n",
    "            split_labels.append('Unknown')\n",
    "\n",
    "    df = pd.DataFrame({'Index': range(len(x_data)), 'Split': split_labels})\n",
    "\n",
    "    # Plot\n",
    "    plt.figure(figsize=(12, 2))\n",
    "    sns.scatterplot(data=df, x='Index', y=[1]*len(df), hue='Split', palette={'Train': 'blue', 'Val': 'red'}, legend='full', s=30)\n",
    "    plt.title(f'Datensplit Übersicht - Fold {fold_no}')\n",
    "    plt.yticks([])\n",
    "    plt.xlabel('Bild-Index')\n",
    "    plt.show()\n",
    "\n",
    "\n",
    "    # Shape vor Augmentation \n",
    "    print(\"Train shape:\", x_train.shape, y_train.shape)\n",
    "    print(\"Val shape:\", x_val.shape, y_val.shape)\n",
    "\n",
    "    # Beispiel-Labels anzeigen\n",
    "    print(\"\\nLabel-Beispiel1:\", int(y_train[0]), \"→\", labels[int(y_train[0])])\n",
    "    print(\"Label-Beispiel2:\", int(y_train[-1]), \"→\", labels[int(y_train[-1])])\n",
    "\n",
    "    # Anzahl Daten\n",
    "    print(\"\\nLänge Trainingsdaten:\", len(x_train))\n",
    "    print(\"Länge Labels:\", len(y_train))\n",
    "\n",
    "    # Data Augmentation auf Trainingsdaten\n",
    "    x_train, y_train = rotate_and_flip_images(x_train, y_train)\n",
    "    print(\"Nach Augmentation:\", x_train.shape, y_train.shape)\n",
    "    \n",
    "    # Model erzeugen\n",
    "    model = create_model()\n",
    "\n",
    "    # ModelCheckpoint Callback → speichert bestes Modell pro Fold\n",
    "    checkpoint = ModelCheckpoint(f'model_fold_{fold_no}.h5', monitor='val_accuracy', save_best_only=True)\n",
    "\n",
    "    # 3840 Trainingsbilder / 16 batch_size = 240 steps\n",
    "    history = train_model(model, x_train, y_train, x_val, y_val, batch_size=16, epochs=30)\n",
    "\n",
    "\n",
    "    # Bilder der Resultate \n",
    "\n",
    "    # Vorhersagen\n",
    "    predictions = model.predict(x_val)\n",
    "    predictions = (predictions > 0.5).astype(\"int32\").reshape(-1)\n",
    "    y_val_int = y_val.astype(int)\n",
    "\n",
    "    # Classification Report\n",
    "    print(classification_report(y_val_int, predictions, target_names=['kein E-Parkplatz (0)', 'grüner E-Parkplatz (1)']))\n",
    "\n",
    "    # Confusion Matrix\n",
    "    cm = confusion_matrix(y_val_int, predictions)\n",
    "    labels_cm = ['kein E-Parkplatz', 'grüner E-Parkplatz']\n",
    "\n",
    "    plt.figure(figsize=(6, 5))\n",
    "    sns.heatmap(cm, annot=True, fmt='d', cmap='Greens',\n",
    "                xticklabels=labels_cm,\n",
    "                yticklabels=labels_cm)\n",
    "    plt.xlabel('Vorhergesagte Klasse')\n",
    "    plt.ylabel('Tatsächliche Klasse')\n",
    "    plt.title(f'Fold {fold_no}: Confusion Matrix')\n",
    "    plt.show()\n",
    "\n",
    "    # Loss & Accuracy Plot\n",
    "    acc = history.history['accuracy']\n",
    "    val_acc = history.history['val_accuracy']\n",
    "    loss = history.history['loss']\n",
    "    val_loss = history.history['val_loss']\n",
    "    epochs_range = range(len(acc))\n",
    "\n",
    "    plt.figure(figsize=(14, 5))\n",
    "\n",
    "    plt.subplot(1, 2, 1)\n",
    "    plt.plot(epochs_range, acc, label='Trainingsgenauigkeit')\n",
    "    plt.plot(epochs_range, val_acc, label='Validierungsgenauigkeit')\n",
    "    plt.legend(loc='lower right')\n",
    "    plt.title('Trainings- und Validierungsgenauigkeit')\n",
    "\n",
    "    plt.subplot(1, 2, 2)\n",
    "    plt.plot(epochs_range, loss, label='Trainingsverlust')\n",
    "    plt.plot(epochs_range, val_loss, label='Validierungsverlust')\n",
    "    plt.legend(loc='upper right')\n",
    "    plt.title('Trainings- und Validierungsverlust')\n",
    "\n",
    "    plt.show()\n",
    "\n",
    "    # fold_no am Ende des Loops hochzählen\n",
    "    fold_no += 1\n",
    "\n"
   ]
  },
  {
   "cell_type": "markdown",
   "id": "c1399f1272e91e9c",
   "metadata": {
    "collapsed": false
   },
   "source": [
    "# Evaluating results"
   ]
  },
  {
   "cell_type": "code",
   "execution_count": null,
   "id": "fea05c160f0594ef",
   "metadata": {
    "collapsed": false
   },
   "outputs": [],
   "source": []
  }
 ],
 "metadata": {
  "kernelspec": {
   "display_name": "green_env",
   "language": "python",
   "name": "python3"
  },
  "language_info": {
   "codemirror_mode": {
    "name": "ipython",
    "version": 3
   },
   "file_extension": ".py",
   "mimetype": "text/x-python",
   "name": "python",
   "nbconvert_exporter": "python",
   "pygments_lexer": "ipython3",
   "version": "3.10.16"
  }
 },
 "nbformat": 4,
 "nbformat_minor": 5
}
